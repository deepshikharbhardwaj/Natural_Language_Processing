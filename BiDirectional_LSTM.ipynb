{
  "nbformat": 4,
  "nbformat_minor": 0,
  "metadata": {
    "colab": {
      "name": "BiDirectional LSTM.ipynb",
      "provenance": [],
      "collapsed_sections": [],
      "include_colab_link": true
    },
    "kernelspec": {
      "name": "python3",
      "display_name": "Python 3"
    },
    "language_info": {
      "name": "python"
    },
    "accelerator": "GPU"
  },
  "cells": [
    {
      "cell_type": "markdown",
      "metadata": {
        "id": "view-in-github",
        "colab_type": "text"
      },
      "source": [
        "<a href=\"https://colab.research.google.com/github/deepshikharbhardwaj/Natural_Language_Processing/blob/main/BiDirectional_LSTM.ipynb\" target=\"_parent\"><img src=\"https://colab.research.google.com/assets/colab-badge.svg\" alt=\"Open In Colab\"/></a>"
      ]
    },
    {
      "cell_type": "markdown",
      "metadata": {
        "id": "52rB_10Q27B3"
      },
      "source": [
        "#Imports"
      ]
    },
    {
      "cell_type": "code",
      "metadata": {
        "id": "PawkenIL-laD"
      },
      "source": [
        "import torch\n",
        "import torchvision\n",
        "import torch.nn as nn                        #All N.N. modules, nn.Linear, nn.Conv2d, Batch Norm, Loss Functions\n",
        "import torch.optim as optim                  #SGD, Adam etc\n",
        "import torch.nn.functional as F              #All functions that doesnt have any parameters\n",
        "from torch.utils.data import DataLoader      #Give easier dataset management and creates mini batches\n",
        "import torchvision.datasets as datasets      #Standard Datasets\n",
        "import torchvision.transforms as transforms"
      ],
      "execution_count": 1,
      "outputs": []
    },
    {
      "cell_type": "markdown",
      "metadata": {
        "id": "e1ah9B7z6J35"
      },
      "source": [
        "#Hyperparameters"
      ]
    },
    {
      "cell_type": "code",
      "metadata": {
        "id": "Sar1KoMQ6P4H"
      },
      "source": [
        "input_size = 28\n",
        "sequence_length = 28\n",
        "num_classes = 10\n",
        "num_layers = 2\n",
        "hidden_size = 256\n",
        "learning_rate = 0.001\n",
        "batch_size = 64\n",
        "num_epochs = 2"
      ],
      "execution_count": 2,
      "outputs": []
    },
    {
      "cell_type": "markdown",
      "metadata": {
        "id": "BfBBkLw34Z5k"
      },
      "source": [
        "#Create BiDirectional LSTM"
      ]
    },
    {
      "cell_type": "code",
      "metadata": {
        "id": "HCNeN_033SLl"
      },
      "source": [
        "#batch, channel, 28 , 28\n",
        "#IN RNN -> Consider as 28 sequences with 28 features\n",
        "class BRNN(nn.Module):\n",
        "    def __init__(self, input_size, hidden_size, num_layers, num_classes):\n",
        "        super(BRNN, self).__init__()\n",
        "        self.hidden_size = hidden_size\n",
        "        self.num_layers = num_layers\n",
        "        self.lstm = nn.LSTM(input_size, hidden_size, num_layers, batch_first = True, bidirectional = True) #batch should be the first dimension #lstm - lstm\n",
        "        self.fc = nn.Linear( hidden_size*2, num_classes ) #hidden state Forward + hidden state Backwawrd CONCATENATED\n",
        "        \n",
        "    def forward(self, x):\n",
        "        h0 = torch.zeros(self.num_layers*2, x.size(0), self.hidden_size).to(device)\n",
        "        c0 = torch.zeros(self.num_layers*2, x.size(0), self.hidden_size).to(device)\n",
        "\n",
        "        #Forward Propogation\n",
        "        out, _ = self.lstm(x, ( h0,c0) )  #hidden state and cell state\n",
        "        #out = out.reshape(out.shape[0], -1) #dont need all hidden states information\n",
        "        #out = self.fc(out)\n",
        "        out = self.fc(out[:,-1,:]) #take all mini batch examples at same time, take LAST HIDDEN STATE, take all features\n",
        "        return out\n"
      ],
      "execution_count": 3,
      "outputs": []
    },
    {
      "cell_type": "markdown",
      "metadata": {
        "id": "sNfGeN9P5wPe"
      },
      "source": [
        "#Set Device"
      ]
    },
    {
      "cell_type": "code",
      "metadata": {
        "id": "EcbIS24I5i90"
      },
      "source": [
        "device = torch.device('cuda' if torch.cuda.is_available() else 'cpu')"
      ],
      "execution_count": 4,
      "outputs": []
    },
    {
      "cell_type": "markdown",
      "metadata": {
        "id": "01jpEL2A83iX"
      },
      "source": [
        "# Load Data"
      ]
    },
    {
      "cell_type": "code",
      "metadata": {
        "id": "pgJI2XE587bm"
      },
      "source": [
        "train_dataset = datasets.MNIST(root = '/content', train = True , transform = transforms.ToTensor(), download = True)\n",
        "train_loader = DataLoader(dataset = train_dataset, batch_size = batch_size, shuffle = True)\n",
        "test_dataset = datasets.MNIST(root = '/content', train = False , transform = transforms.ToTensor(), download = True)\n",
        "test_loader = DataLoader(dataset = test_dataset, batch_size = batch_size, shuffle = True)"
      ],
      "execution_count": null,
      "outputs": []
    },
    {
      "cell_type": "markdown",
      "metadata": {
        "id": "9LkEbrooSMLY"
      },
      "source": [
        "#Initialize Network"
      ]
    },
    {
      "cell_type": "code",
      "metadata": {
        "id": "Lk1Ywj23SG6o"
      },
      "source": [
        "model = BRNN(input_size, hidden_size, num_layers, num_classes).to(device)"
      ],
      "execution_count": 6,
      "outputs": []
    },
    {
      "cell_type": "markdown",
      "metadata": {
        "id": "sJO0eX-tSgL9"
      },
      "source": [
        "#Loss and Optimizer"
      ]
    },
    {
      "cell_type": "code",
      "metadata": {
        "id": "89WGMN0-SjlM"
      },
      "source": [
        "criterion = nn.CrossEntropyLoss()\n",
        "optimizer = optim.Adam(model.parameters(), lr = learning_rate)"
      ],
      "execution_count": 7,
      "outputs": []
    },
    {
      "cell_type": "markdown",
      "metadata": {
        "id": "xuMDe3UkS41q"
      },
      "source": [
        "#Train Network"
      ]
    },
    {
      "cell_type": "code",
      "metadata": {
        "id": "Rr6GgIMUS8qf"
      },
      "source": [
        "for epoch in range(num_epochs): #In one epoch model has seen all the images once\n",
        "    for batch_idx , (data, targets) in enumerate(train_loader):\n",
        "        #Get data to cuda\n",
        "        data = data.to(device).squeeze(1)  #batch x 1 x 28 x 28 --> RNN need batch x 28 x 28 i.e. sequeeze axis 1\n",
        "        targets = targets.to(device)\n",
        "\n",
        "        #forward\n",
        "        scores = model(data)\n",
        "        loss = criterion(scores, targets)\n",
        "\n",
        "        #backward\n",
        "        optimizer.zero_grad()\n",
        "        loss.backward()\n",
        "\n",
        "        #gradient descent or adam step\n",
        "        optimizer.step() #update weights based on the gradients"
      ],
      "execution_count": 8,
      "outputs": []
    },
    {
      "cell_type": "markdown",
      "metadata": {
        "id": "Sw544aDHS8CY"
      },
      "source": [
        "#Check Accuracy"
      ]
    },
    {
      "cell_type": "code",
      "metadata": {
        "colab": {
          "base_uri": "https://localhost:8080/"
        },
        "id": "sat4L0P8XAaB",
        "outputId": "5014acad-5912-4ef6-c272-c27545d5cdbd"
      },
      "source": [
        "def check_accuracy(loader, model):\n",
        "    if loader.dataset.train:\n",
        "        print('Checking Accuracy on Training Data')\n",
        "    else:\n",
        "        print('Checking Accuracy on Test Data')\n",
        "    num_correct = 0\n",
        "    num_samples = 0\n",
        "    model.eval()\n",
        "\n",
        "    with torch.no_grad():\n",
        "        for x,y in loader:\n",
        "            x = x.to(device=device).squeeze(1) #RNN Changes from NN\n",
        "            y = y.to(device=device)\n",
        "            #x = x.reshape(x.shape[0], -1) #RNN desired input unlike NN\n",
        "\n",
        "            scores = model(x)\n",
        "            values, predictions = scores.max(1)\n",
        "            num_correct += (predictions == y).sum()\n",
        "            num_samples += predictions.size(0) #0th dimension in [64x10] i.e. 64\n",
        "        print(f'Got {num_correct}/ {num_samples} with accuracy {float(num_correct)/float(num_samples)*100:.2f} \\n')\n",
        "\n",
        "    model.train()\n",
        "\n",
        "check_accuracy(train_loader, model)\n",
        "check_accuracy(test_loader, model)\n",
        "\n"
      ],
      "execution_count": 9,
      "outputs": [
        {
          "output_type": "stream",
          "text": [
            "Checking Accuracy on Training Data\n",
            "Got 58438/ 60000 with accuracy 97.40 \n",
            "\n",
            "Checking Accuracy on Test Data\n",
            "Got 9739/ 10000 with accuracy 97.39 \n",
            "\n"
          ],
          "name": "stdout"
        }
      ]
    }
  ]
}