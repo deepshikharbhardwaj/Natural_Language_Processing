{
  "nbformat": 4,
  "nbformat_minor": 0,
  "metadata": {
    "colab": {
      "name": "CNN_checkpoints.ipynb",
      "provenance": [],
      "collapsed_sections": [],
      "toc_visible": true,
      "include_colab_link": true
    },
    "kernelspec": {
      "name": "python3",
      "display_name": "Python 3"
    },
    "language_info": {
      "name": "python"
    },
    "accelerator": "GPU"
  },
  "cells": [
    {
      "cell_type": "markdown",
      "metadata": {
        "id": "view-in-github",
        "colab_type": "text"
      },
      "source": [
        "<a href=\"https://colab.research.google.com/github/deepshikharbhardwaj/Natural_Language_Processing/blob/main/CNN_checkpoints.ipynb\" target=\"_parent\"><img src=\"https://colab.research.google.com/assets/colab-badge.svg\" alt=\"Open In Colab\"/></a>"
      ]
    },
    {
      "cell_type": "markdown",
      "metadata": {
        "id": "52rB_10Q27B3"
      },
      "source": [
        "#Imports"
      ]
    },
    {
      "cell_type": "code",
      "metadata": {
        "id": "PawkenIL-laD"
      },
      "source": [
        "import torch\n",
        "import torch.nn as nn\n",
        "import torch.optim as optim\n",
        "import torch.nn.functional as F\n",
        "from torch.utils.data import DataLoader\n",
        "import torchvision.datasets as datasets\n",
        "import torchvision.transforms as transforms"
      ],
      "execution_count": 1,
      "outputs": []
    },
    {
      "cell_type": "markdown",
      "metadata": {
        "id": "e1ah9B7z6J35"
      },
      "source": [
        "#Hyperparameters"
      ]
    },
    {
      "cell_type": "code",
      "metadata": {
        "id": "Sar1KoMQ6P4H"
      },
      "source": [
        "input_size = 784\n",
        "in_channel = 1\n",
        "num_classes = 10\n",
        "learning_rate = 1e-4\n",
        "batch_size = 1024\n",
        "num_epochs = 10\n",
        "load_model = True"
      ],
      "execution_count": 2,
      "outputs": []
    },
    {
      "cell_type": "markdown",
      "metadata": {
        "id": "BfBBkLw34Z5k"
      },
      "source": [
        "#Create Fully Connected Network"
      ]
    },
    {
      "cell_type": "code",
      "metadata": {
        "colab": {
          "base_uri": "https://localhost:8080/"
        },
        "id": "HCNeN_033SLl",
        "outputId": "785ffb77-91d4-44c7-e20d-bcf98ccd483b"
      },
      "source": [
        "class CNN(nn.Module):\n",
        "    def __init__(self, in_channels = 1, num_classes = 10):\n",
        "        super(CNN, self).__init__()\n",
        "        self.conv1 = nn.Conv2d(in_channels = 1, out_channels = 8, kernel_size = (3,3), stride = (1,1), padding = (1,1)) #same output with these hyperparameters\n",
        "        self.pool = nn.MaxPool2d(kernel_size = (2,2), stride = (2,2)) #half the output\n",
        "        self.conv2 = nn.Conv2d(in_channels = 8, out_channels = 16, kernel_size = (3,3), stride = (1,1), padding = (1,1))\n",
        "        self.fc1 = nn.Linear(16*7*7, num_classes)\n",
        "\n",
        "    def forward(self, x):\n",
        "        x = F.relu(self.conv1(x))\n",
        "        x = self.pool(x)\n",
        "        x = F.relu(self.conv2(x))\n",
        "        x = self.pool(x)\n",
        "        x = x.reshape(x.shape[0],-1)\n",
        "        x = self.fc1(x)\n",
        "        return x\n",
        "\n",
        "#Checking        \n",
        "model = CNN(784, 10)\n",
        "x = torch.randn(64, 1, 28, 28)\n",
        "model(x).shape"
      ],
      "execution_count": 3,
      "outputs": [
        {
          "output_type": "execute_result",
          "data": {
            "text/plain": [
              "torch.Size([64, 10])"
            ]
          },
          "metadata": {
            "tags": []
          },
          "execution_count": 3
        }
      ]
    },
    {
      "cell_type": "markdown",
      "metadata": {
        "id": "wOL8D0m9AUIs"
      },
      "source": [
        "# Checkpoint"
      ]
    },
    {
      "cell_type": "code",
      "metadata": {
        "id": "CpjcDTQXAWZ9"
      },
      "source": [
        "def save_checkpoint(state, filename = \"my_checkpoint.pth.tar\"):\n",
        "    print(\"=> Saving Checkpoint\")\n",
        "    torch.save(state, filename) #save state at filename\n",
        "\n",
        "def load_checkpoint(checkpoint):\n",
        "    print(\"=> Loading Checkpoint\")\n",
        "    model.load_state_dict(checkpoint['state_dict'])\n",
        "    optimizer.load_state_dict(checkpoint['optimizer'])"
      ],
      "execution_count": 4,
      "outputs": []
    },
    {
      "cell_type": "markdown",
      "metadata": {
        "id": "sNfGeN9P5wPe"
      },
      "source": [
        "#Set Device"
      ]
    },
    {
      "cell_type": "code",
      "metadata": {
        "id": "EcbIS24I5i90"
      },
      "source": [
        "device = torch.device('cuda' if torch.cuda.is_available() else 'cpu')"
      ],
      "execution_count": 5,
      "outputs": []
    },
    {
      "cell_type": "markdown",
      "metadata": {
        "id": "01jpEL2A83iX"
      },
      "source": [
        "# Load Data"
      ]
    },
    {
      "cell_type": "code",
      "metadata": {
        "id": "pgJI2XE587bm"
      },
      "source": [
        "train_dataset = datasets.MNIST(root = '/content', train = True , transform = transforms.ToTensor(), download = True)\n",
        "train_loader = DataLoader(dataset = train_dataset, batch_size = batch_size, shuffle = True)\n",
        "test_dataset = datasets.MNIST(root = '/content', train = False , transform = transforms.ToTensor(), download = True)\n",
        "test_loader = DataLoader(dataset = test_dataset, batch_size = batch_size, shuffle = True)"
      ],
      "execution_count": null,
      "outputs": []
    },
    {
      "cell_type": "markdown",
      "metadata": {
        "id": "9LkEbrooSMLY"
      },
      "source": [
        "#Initialize Network"
      ]
    },
    {
      "cell_type": "code",
      "metadata": {
        "id": "Lk1Ywj23SG6o"
      },
      "source": [
        "model = CNN().to(device)\n",
        "# OR\n",
        "#model = CNN(in_channels = in_channels, num_classes = num_classes).to(device)"
      ],
      "execution_count": 7,
      "outputs": []
    },
    {
      "cell_type": "markdown",
      "metadata": {
        "id": "sJO0eX-tSgL9"
      },
      "source": [
        "#Loss and Optimizer"
      ]
    },
    {
      "cell_type": "code",
      "metadata": {
        "id": "89WGMN0-SjlM"
      },
      "source": [
        "criterion = nn.CrossEntropyLoss()\n",
        "optimizer = optim.Adam(model.parameters(), lr = learning_rate)"
      ],
      "execution_count": 8,
      "outputs": []
    },
    {
      "cell_type": "markdown",
      "metadata": {
        "id": "hSQZQdv5ouMp"
      },
      "source": [
        "#Load Model Checkpoint"
      ]
    },
    {
      "cell_type": "code",
      "metadata": {
        "id": "tR5k7uyioyIp",
        "colab": {
          "base_uri": "https://localhost:8080/"
        },
        "outputId": "f109fb9e-7876-4467-d513-5848fedf16ef"
      },
      "source": [
        "if load_model:\n",
        "    load_checkpoint(torch.load(\"my_checkpoint.pth.tar\"))"
      ],
      "execution_count": 11,
      "outputs": [
        {
          "output_type": "stream",
          "text": [
            "=> Loading Checkpoint\n"
          ],
          "name": "stdout"
        }
      ]
    },
    {
      "cell_type": "markdown",
      "metadata": {
        "id": "xuMDe3UkS41q"
      },
      "source": [
        "#Train Network"
      ]
    },
    {
      "cell_type": "code",
      "metadata": {
        "id": "Rr6GgIMUS8qf",
        "colab": {
          "base_uri": "https://localhost:8080/"
        },
        "outputId": "a5ace8e3-7141-48c4-aaa4-af151e32584a"
      },
      "source": [
        "for epoch in range(num_epochs): #In one epoch model has seen all the images once\n",
        "    losses = []\n",
        "\n",
        "    if epoch % 2 == 0:\n",
        "        checkpoint = {'state_dict' : model.state_dict(), 'optimizer' : optimizer.state_dict()}\n",
        "        save_checkpoint(checkpoint) \n",
        "\n",
        "    for batch_idx , (data, targets) in enumerate(train_loader):\n",
        "        #Get data to cuda\n",
        "        data = data.to(device)\n",
        "        targets = targets.to(device)\n",
        "\n",
        "        #CORRECT SHAPE \n",
        "        #print(data.shape) #torch.Size([64, 1, 28, 28]) \n",
        "        #data = data.reshape(data.shape[0], -1) # untouch 0th dimension\n",
        "\n",
        "        #forward\n",
        "        scores = model(data)\n",
        "        loss = criterion(scores, targets)\n",
        "        losses.append(loss.item())\n",
        "\n",
        "        #backward\n",
        "        optimizer.zero_grad()\n",
        "        loss.backward()\n",
        "\n",
        "        #gradient descent or adam step\n",
        "        optimizer.step() #update weights based on the gradients"
      ],
      "execution_count": 10,
      "outputs": [
        {
          "output_type": "stream",
          "text": [
            "=> Saving Checkpoint\n",
            "=> Saving Checkpoint\n",
            "=> Saving Checkpoint\n",
            "=> Saving Checkpoint\n",
            "=> Saving Checkpoint\n"
          ],
          "name": "stdout"
        }
      ]
    },
    {
      "cell_type": "markdown",
      "metadata": {
        "id": "Sw544aDHS8CY"
      },
      "source": [
        "#Check Accuracy"
      ]
    },
    {
      "cell_type": "code",
      "metadata": {
        "colab": {
          "base_uri": "https://localhost:8080/"
        },
        "id": "sat4L0P8XAaB",
        "outputId": "f192b625-f7fe-4078-8fb1-c4844416c593"
      },
      "source": [
        "def check_accuracy(loader, model):\n",
        "    if loader.dataset.train:\n",
        "        print('Checking Accuracy on Training Data')\n",
        "    else:\n",
        "        print('Checking Accuracy on Test Data')\n",
        "    num_correct = 0\n",
        "    num_samples = 0\n",
        "    model.eval()\n",
        "\n",
        "    with torch.no_grad():\n",
        "        for x,y in loader:\n",
        "            x = x.to(device=device)\n",
        "            y = y.to(device=device)\n",
        "            #x = x.reshape(x.shape[0], -1)\n",
        "\n",
        "            scores = model(x)\n",
        "            values, predictions = scores.max(1)\n",
        "            num_correct += (predictions == y).sum()\n",
        "            num_samples += predictions.size(0) #0th dimension in [64x10] i.e. 64\n",
        "        print(f'Got {num_correct}/ {num_samples} with accuracy {float(num_correct)/float(num_samples)*100:.2f} \\n')\n",
        "\n",
        "    model.train()\n",
        "\n",
        "check_accuracy(train_loader, model)\n",
        "check_accuracy(test_loader, model)\n",
        "\n"
      ],
      "execution_count": 12,
      "outputs": [
        {
          "output_type": "stream",
          "text": [
            "Checking Accuracy on Training Data\n",
            "Got 51665/ 60000 with accuracy 86.11 \n",
            "\n",
            "Checking Accuracy on Test Data\n",
            "Got 8738/ 10000 with accuracy 87.38 \n",
            "\n"
          ],
          "name": "stdout"
        }
      ]
    }
  ]
}